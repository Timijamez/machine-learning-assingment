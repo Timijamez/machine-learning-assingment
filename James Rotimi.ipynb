{
 "cells": [
  {
   "cell_type": "code",
   "execution_count": 1,
   "id": "c8f80818-c155-4056-a1cb-fa9475e40f40",
   "metadata": {},
   "outputs": [],
   "source": [
    "#James olurotimi 23/2768 group b information technology"
   ]
  },
  {
   "cell_type": "code",
   "execution_count": 2,
   "id": "c1f0beae-7658-451d-ae98-f0987674f896",
   "metadata": {},
   "outputs": [
    {
     "name": "stdout",
     "output_type": "stream",
     "text": [
      "30 3.142 5j\n"
     ]
    }
   ],
   "source": [
    "x = 30; #integer data type\n",
    "y = 3.142;  #float data type\n",
    "z = 5j; # complex numbers data types\n",
    "print (x, y, z)"
   ]
  },
  {
   "cell_type": "code",
   "execution_count": 3,
   "id": "950ecf93-b350-4426-baa2-23de7ab6192f",
   "metadata": {},
   "outputs": [
    {
     "name": "stdout",
     "output_type": "stream",
     "text": [
      "True\n"
     ]
    }
   ],
   "source": [
    "x = True\n",
    "y = False \n",
    "print (x)"
   ]
  },
  {
   "cell_type": "code",
   "execution_count": 4,
   "id": "cca1322f-3fd3-4697-9d43-73c42ac50b8d",
   "metadata": {},
   "outputs": [
    {
     "name": "stdout",
     "output_type": "stream",
     "text": [
      "James\n"
     ]
    }
   ],
   "source": [
    "name = \"James\"\n",
    "print (name)"
   ]
  },
  {
   "cell_type": "code",
   "execution_count": 5,
   "id": "477d52fd-7cf7-497a-a301-a377203d284b",
   "metadata": {},
   "outputs": [
    {
     "name": "stdout",
     "output_type": "stream",
     "text": [
      "['James', 'Group B']\n"
     ]
    }
   ],
   "source": [
    "my_list = [\"James\", \"Group B\"]\n",
    "print (my_list)"
   ]
  },
  {
   "cell_type": "code",
   "execution_count": 6,
   "id": "659768a7-9ea0-4f86-b175-99cd844db31b",
   "metadata": {},
   "outputs": [
    {
     "data": {
      "text/plain": [
       "('James', 'Rotimi')"
      ]
     },
     "execution_count": 6,
     "metadata": {},
     "output_type": "execute_result"
    }
   ],
   "source": [
    "student = (\"James\", \"Rotimi\")\n",
    "student"
   ]
  },
  {
   "cell_type": "code",
   "execution_count": 7,
   "id": "6287a145-d0b4-43d2-a950-a68ea11dbbc8",
   "metadata": {},
   "outputs": [],
   "source": [
    "person = {\"name\":\"James\",\"age\":18,\"color\":\"Fair\"}"
   ]
  },
  {
   "cell_type": "code",
   "execution_count": 8,
   "id": "f7c53c89-99cb-4cd6-a61a-7884064959fe",
   "metadata": {},
   "outputs": [
    {
     "data": {
      "text/plain": [
       "{'name': 'James', 'age': 18, 'color': 'Fair'}"
      ]
     },
     "execution_count": 8,
     "metadata": {},
     "output_type": "execute_result"
    }
   ],
   "source": [
    "person"
   ]
  },
  {
   "cell_type": "code",
   "execution_count": 9,
   "id": "ebf68184-ec4e-43a9-aad3-0a3e7b54462d",
   "metadata": {},
   "outputs": [
    {
     "data": {
      "text/plain": [
       "'James'"
      ]
     },
     "execution_count": 9,
     "metadata": {},
     "output_type": "execute_result"
    }
   ],
   "source": [
    "person[\"name\"]"
   ]
  },
  {
   "cell_type": "code",
   "execution_count": 10,
   "id": "a8717afb-d863-469e-b5f5-b88e936e8cc2",
   "metadata": {},
   "outputs": [
    {
     "data": {
      "text/plain": [
       "18"
      ]
     },
     "execution_count": 10,
     "metadata": {},
     "output_type": "execute_result"
    }
   ],
   "source": [
    "person[\"age\"]"
   ]
  },
  {
   "cell_type": "code",
   "execution_count": null,
   "id": "c7e8a98d-1a4c-41fb-b3bd-c45741a206cf",
   "metadata": {},
   "outputs": [],
   "source": []
  }
 ],
 "metadata": {
  "kernelspec": {
   "display_name": "Python 3 (ipykernel)",
   "language": "python",
   "name": "python3"
  },
  "language_info": {
   "codemirror_mode": {
    "name": "ipython",
    "version": 3
   },
   "file_extension": ".py",
   "mimetype": "text/x-python",
   "name": "python",
   "nbconvert_exporter": "python",
   "pygments_lexer": "ipython3",
   "version": "3.13.7"
  }
 },
 "nbformat": 4,
 "nbformat_minor": 5
}
